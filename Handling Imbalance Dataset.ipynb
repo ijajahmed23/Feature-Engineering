{
 "cells": [
  {
   "cell_type": "markdown",
   "id": "2c03bcde-1f79-4c77-9a8c-621c4a3be7bc",
   "metadata": {},
   "source": [
    "###Handling Imbalanced Dataset\n",
    "\n",
    "\n",
    "##Up sampling & Down Sampling"
   ]
  },
  {
   "cell_type": "code",
   "execution_count": 1,
   "id": "3a345ca5-6107-4094-970d-4c70600fadbe",
   "metadata": {},
   "outputs": [],
   "source": [
    "import numpy as np\n",
    "import pandas as pd\n",
    "\n",
    "#Set the random seed for reproducibility\n",
    "np.random.seed(123)\n",
    "\n",
    "#Create a dataframe with two classes\n",
    "n_samples=1000\n",
    "class_0_ratio=0.9\n",
    "n_class_0=int(n_samples*class_0_ratio)\n",
    "n_class_1=n_samples-n_class_0"
   ]
  },
  {
   "cell_type": "code",
   "execution_count": 2,
   "id": "5f88553b-809d-41e1-b2db-67222fd61030",
   "metadata": {},
   "outputs": [
    {
     "data": {
      "text/plain": [
       "(900, 100)"
      ]
     },
     "execution_count": 2,
     "metadata": {},
     "output_type": "execute_result"
    }
   ],
   "source": [
    "n_class_0,n_class_1"
   ]
  },
  {
   "cell_type": "code",
   "execution_count": 4,
   "id": "38321f77-23de-4727-b140-c04e9a7bb91d",
   "metadata": {},
   "outputs": [],
   "source": [
    "#CREATE DATAFRAME WITH IMBALANCED DATASET \n",
    "class_0=pd.DataFrame({\n",
    "    'feature_1':np.random.normal(loc=0,scale=1,size=n_class_0),\n",
    "    'feature_2':np.random.normal(loc=0,scale=1,size=n_class_0),\n",
    "    'target':[0]*n_class_0\n",
    "})\n",
    "\n",
    "class_1=pd.DataFrame({\n",
    "    'feature_1':np.random.normal(loc=0,scale=1,size=n_class_1),\n",
    "    'feature_2':np.random.normal(loc=0,scale=1,size=n_class_1),\n",
    "    'target':[1]*n_class_1\n",
    "})"
   ]
  },
  {
   "cell_type": "code",
   "execution_count": 6,
   "id": "fa49a602-db00-470d-99c8-347584cfb595",
   "metadata": {},
   "outputs": [],
   "source": [
    "df=pd.concat([class_0,class_1]).reset_index(drop=1)"
   ]
  },
  {
   "cell_type": "code",
   "execution_count": 7,
   "id": "60c7e7fb-362b-40d9-a4a6-7ba95abcec79",
   "metadata": {},
   "outputs": [
    {
     "data": {
      "text/html": [
       "<div>\n",
       "<style scoped>\n",
       "    .dataframe tbody tr th:only-of-type {\n",
       "        vertical-align: middle;\n",
       "    }\n",
       "\n",
       "    .dataframe tbody tr th {\n",
       "        vertical-align: top;\n",
       "    }\n",
       "\n",
       "    .dataframe thead th {\n",
       "        text-align: right;\n",
       "    }\n",
       "</style>\n",
       "<table border=\"1\" class=\"dataframe\">\n",
       "  <thead>\n",
       "    <tr style=\"text-align: right;\">\n",
       "      <th></th>\n",
       "      <th>feature_1</th>\n",
       "      <th>feature_2</th>\n",
       "      <th>target</th>\n",
       "    </tr>\n",
       "  </thead>\n",
       "  <tbody>\n",
       "    <tr>\n",
       "      <th>995</th>\n",
       "      <td>0.677156</td>\n",
       "      <td>-0.907952</td>\n",
       "      <td>1</td>\n",
       "    </tr>\n",
       "    <tr>\n",
       "      <th>996</th>\n",
       "      <td>0.963404</td>\n",
       "      <td>-1.818045</td>\n",
       "      <td>1</td>\n",
       "    </tr>\n",
       "    <tr>\n",
       "      <th>997</th>\n",
       "      <td>-0.378524</td>\n",
       "      <td>-0.122733</td>\n",
       "      <td>1</td>\n",
       "    </tr>\n",
       "    <tr>\n",
       "      <th>998</th>\n",
       "      <td>1.429559</td>\n",
       "      <td>1.794486</td>\n",
       "      <td>1</td>\n",
       "    </tr>\n",
       "    <tr>\n",
       "      <th>999</th>\n",
       "      <td>1.532273</td>\n",
       "      <td>-0.320510</td>\n",
       "      <td>1</td>\n",
       "    </tr>\n",
       "  </tbody>\n",
       "</table>\n",
       "</div>"
      ],
      "text/plain": [
       "     feature_1  feature_2  target\n",
       "995   0.677156  -0.907952       1\n",
       "996   0.963404  -1.818045       1\n",
       "997  -0.378524  -0.122733       1\n",
       "998   1.429559   1.794486       1\n",
       "999   1.532273  -0.320510       1"
      ]
     },
     "execution_count": 7,
     "metadata": {},
     "output_type": "execute_result"
    }
   ],
   "source": [
    "df.tail()"
   ]
  },
  {
   "cell_type": "code",
   "execution_count": 8,
   "id": "1e9f76a5-721c-430e-b90f-102490b0de43",
   "metadata": {},
   "outputs": [
    {
     "data": {
      "text/plain": [
       "0    900\n",
       "1    100\n",
       "Name: target, dtype: int64"
      ]
     },
     "execution_count": 8,
     "metadata": {},
     "output_type": "execute_result"
    }
   ],
   "source": [
    "df['target'].value_counts()"
   ]
  },
  {
   "cell_type": "code",
   "execution_count": 9,
   "id": "59f2b9b7-381c-4257-84d6-a8becd6c3371",
   "metadata": {},
   "outputs": [],
   "source": [
    "## Up Sampling\n",
    "df_minority=df[df['target']==1]\n",
    "df_majority=df[df['target']==0]"
   ]
  },
  {
   "cell_type": "code",
   "execution_count": 10,
   "id": "1a28263d-beb8-4027-902c-28ae773d35c4",
   "metadata": {},
   "outputs": [],
   "source": [
    "from sklearn.utils import resample\n",
    "df_minority_upsampled=resample(df_minority,replace=True, #Sample with replacement\n",
    "         n_samples=len(df_majority),\n",
    "         random_state=42\n",
    "        )\n",
    "     "
   ]
  },
  {
   "cell_type": "code",
   "execution_count": 11,
   "id": "7f50cf46-1bc9-42bf-8ecc-b3e9d030df97",
   "metadata": {},
   "outputs": [
    {
     "data": {
      "text/plain": [
       "(900, 3)"
      ]
     },
     "execution_count": 11,
     "metadata": {},
     "output_type": "execute_result"
    }
   ],
   "source": [
    "df_minority_upsampled.shape"
   ]
  },
  {
   "cell_type": "code",
   "execution_count": 12,
   "id": "2e8a9883-f951-4fb3-ace2-ee8a8e2ef0cb",
   "metadata": {},
   "outputs": [
    {
     "data": {
      "text/html": [
       "<div>\n",
       "<style scoped>\n",
       "    .dataframe tbody tr th:only-of-type {\n",
       "        vertical-align: middle;\n",
       "    }\n",
       "\n",
       "    .dataframe tbody tr th {\n",
       "        vertical-align: top;\n",
       "    }\n",
       "\n",
       "    .dataframe thead th {\n",
       "        text-align: right;\n",
       "    }\n",
       "</style>\n",
       "<table border=\"1\" class=\"dataframe\">\n",
       "  <thead>\n",
       "    <tr style=\"text-align: right;\">\n",
       "      <th></th>\n",
       "      <th>feature_1</th>\n",
       "      <th>feature_2</th>\n",
       "      <th>target</th>\n",
       "    </tr>\n",
       "  </thead>\n",
       "  <tbody>\n",
       "    <tr>\n",
       "      <th>951</th>\n",
       "      <td>0.905343</td>\n",
       "      <td>-0.504849</td>\n",
       "      <td>1</td>\n",
       "    </tr>\n",
       "    <tr>\n",
       "      <th>992</th>\n",
       "      <td>0.000977</td>\n",
       "      <td>-0.185167</td>\n",
       "      <td>1</td>\n",
       "    </tr>\n",
       "    <tr>\n",
       "      <th>914</th>\n",
       "      <td>-0.072043</td>\n",
       "      <td>0.280911</td>\n",
       "      <td>1</td>\n",
       "    </tr>\n",
       "    <tr>\n",
       "      <th>971</th>\n",
       "      <td>0.819483</td>\n",
       "      <td>0.964646</td>\n",
       "      <td>1</td>\n",
       "    </tr>\n",
       "    <tr>\n",
       "      <th>960</th>\n",
       "      <td>0.456515</td>\n",
       "      <td>-0.166472</td>\n",
       "      <td>1</td>\n",
       "    </tr>\n",
       "  </tbody>\n",
       "</table>\n",
       "</div>"
      ],
      "text/plain": [
       "     feature_1  feature_2  target\n",
       "951   0.905343  -0.504849       1\n",
       "992   0.000977  -0.185167       1\n",
       "914  -0.072043   0.280911       1\n",
       "971   0.819483   0.964646       1\n",
       "960   0.456515  -0.166472       1"
      ]
     },
     "execution_count": 12,
     "metadata": {},
     "output_type": "execute_result"
    }
   ],
   "source": [
    "df_minority_upsampled.head()"
   ]
  },
  {
   "cell_type": "code",
   "execution_count": 13,
   "id": "72abade8-e6bc-4deb-abf8-c686b8f68474",
   "metadata": {},
   "outputs": [],
   "source": [
    "df_upsampled=pd.concat([df_majority,df_minority_upsampled])"
   ]
  },
  {
   "cell_type": "code",
   "execution_count": 14,
   "id": "e6a8107f-3fb2-4728-aaba-a5d50319f10a",
   "metadata": {},
   "outputs": [
    {
     "data": {
      "text/plain": [
       "0    900\n",
       "1    900\n",
       "Name: target, dtype: int64"
      ]
     },
     "execution_count": 14,
     "metadata": {},
     "output_type": "execute_result"
    }
   ],
   "source": [
    "df_upsampled['target'].value_counts()"
   ]
  },
  {
   "cell_type": "markdown",
   "id": "a26ebc06-b2f1-4eee-ab49-6b263f7631e5",
   "metadata": {},
   "source": [
    "###DOWN SAMPLING"
   ]
  },
  {
   "cell_type": "code",
   "execution_count": 15,
   "id": "c74e72a0-737a-4cf9-9ab3-9896b19766b2",
   "metadata": {},
   "outputs": [],
   "source": [
    "class_0=pd.DataFrame({\n",
    "    'feature_3':np.random.normal(loc=0,scale=1,size=n_class_0),\n",
    "    'feature_4':np.random.normal(loc=0,scale=1,size=n_class_0),\n",
    "    'target':[0]*n_class_0\n",
    "})\n",
    "\n",
    "class_1=pd.DataFrame({\n",
    "    'feature_3':np.random.normal(loc=0,scale=1,size=n_class_1),\n",
    "    'feature_4':np.random.normal(loc=0,scale=1,size=n_class_1),\n",
    "    'target':[1]*n_class_1\n",
    "})"
   ]
  },
  {
   "cell_type": "code",
   "execution_count": 16,
   "id": "710daba3-ef23-4412-8c58-1e02570b3b6a",
   "metadata": {},
   "outputs": [
    {
     "data": {
      "text/plain": [
       "1    100\n",
       "Name: target, dtype: int64"
      ]
     },
     "execution_count": 16,
     "metadata": {},
     "output_type": "execute_result"
    }
   ],
   "source": [
    "class_1['target'].value_counts()"
   ]
  },
  {
   "cell_type": "code",
   "execution_count": 17,
   "id": "182b4f60-f4da-44ab-a459-63e207386039",
   "metadata": {},
   "outputs": [],
   "source": [
    "df=pd.concat([class_0,class_1]).reset_index(drop=1)"
   ]
  },
  {
   "cell_type": "code",
   "execution_count": 18,
   "id": "7cae35c4-0af6-4432-aeba-816091df19ba",
   "metadata": {},
   "outputs": [
    {
     "data": {
      "text/html": [
       "<div>\n",
       "<style scoped>\n",
       "    .dataframe tbody tr th:only-of-type {\n",
       "        vertical-align: middle;\n",
       "    }\n",
       "\n",
       "    .dataframe tbody tr th {\n",
       "        vertical-align: top;\n",
       "    }\n",
       "\n",
       "    .dataframe thead th {\n",
       "        text-align: right;\n",
       "    }\n",
       "</style>\n",
       "<table border=\"1\" class=\"dataframe\">\n",
       "  <thead>\n",
       "    <tr style=\"text-align: right;\">\n",
       "      <th></th>\n",
       "      <th>feature_3</th>\n",
       "      <th>feature_4</th>\n",
       "      <th>target</th>\n",
       "    </tr>\n",
       "  </thead>\n",
       "  <tbody>\n",
       "    <tr>\n",
       "      <th>995</th>\n",
       "      <td>0.720690</td>\n",
       "      <td>-0.021511</td>\n",
       "      <td>1</td>\n",
       "    </tr>\n",
       "    <tr>\n",
       "      <th>996</th>\n",
       "      <td>-0.050922</td>\n",
       "      <td>1.709793</td>\n",
       "      <td>1</td>\n",
       "    </tr>\n",
       "    <tr>\n",
       "      <th>997</th>\n",
       "      <td>0.709784</td>\n",
       "      <td>1.324917</td>\n",
       "      <td>1</td>\n",
       "    </tr>\n",
       "    <tr>\n",
       "      <th>998</th>\n",
       "      <td>-0.182311</td>\n",
       "      <td>-0.450763</td>\n",
       "      <td>1</td>\n",
       "    </tr>\n",
       "    <tr>\n",
       "      <th>999</th>\n",
       "      <td>0.838910</td>\n",
       "      <td>0.240773</td>\n",
       "      <td>1</td>\n",
       "    </tr>\n",
       "  </tbody>\n",
       "</table>\n",
       "</div>"
      ],
      "text/plain": [
       "     feature_3  feature_4  target\n",
       "995   0.720690  -0.021511       1\n",
       "996  -0.050922   1.709793       1\n",
       "997   0.709784   1.324917       1\n",
       "998  -0.182311  -0.450763       1\n",
       "999   0.838910   0.240773       1"
      ]
     },
     "execution_count": 18,
     "metadata": {},
     "output_type": "execute_result"
    }
   ],
   "source": [
    "df.tail()"
   ]
  },
  {
   "cell_type": "code",
   "execution_count": 19,
   "id": "60a99cb9-d216-4c4e-97e6-cff2ba82bf9d",
   "metadata": {},
   "outputs": [
    {
     "data": {
      "text/plain": [
       "0    900\n",
       "1    100\n",
       "Name: target, dtype: int64"
      ]
     },
     "execution_count": 19,
     "metadata": {},
     "output_type": "execute_result"
    }
   ],
   "source": [
    "df['target'].value_counts()"
   ]
  },
  {
   "cell_type": "code",
   "execution_count": 21,
   "id": "d8aefbef-96d4-4d2a-a369-d67d19d4f271",
   "metadata": {},
   "outputs": [],
   "source": [
    "df_majority=df[df['target']==0]\n",
    "df_minority=df[df['target']==1]"
   ]
  },
  {
   "cell_type": "code",
   "execution_count": 22,
   "id": "87819cc5-fcf0-49c2-b2bf-bb46697582c9",
   "metadata": {},
   "outputs": [],
   "source": [
    "#Down Sampling\n",
    "df_majority_downsampled=resample(df_majority,replace=False,\n",
    "         n_samples=len(df_minority),\n",
    "         random_state=43)\n",
    "     "
   ]
  },
  {
   "cell_type": "code",
   "execution_count": 23,
   "id": "d2b7d2d2-7b39-4632-8c3f-22cdc7d2d202",
   "metadata": {},
   "outputs": [
    {
     "data": {
      "text/html": [
       "<div>\n",
       "<style scoped>\n",
       "    .dataframe tbody tr th:only-of-type {\n",
       "        vertical-align: middle;\n",
       "    }\n",
       "\n",
       "    .dataframe tbody tr th {\n",
       "        vertical-align: top;\n",
       "    }\n",
       "\n",
       "    .dataframe thead th {\n",
       "        text-align: right;\n",
       "    }\n",
       "</style>\n",
       "<table border=\"1\" class=\"dataframe\">\n",
       "  <thead>\n",
       "    <tr style=\"text-align: right;\">\n",
       "      <th></th>\n",
       "      <th>feature_3</th>\n",
       "      <th>feature_4</th>\n",
       "      <th>target</th>\n",
       "    </tr>\n",
       "  </thead>\n",
       "  <tbody>\n",
       "    <tr>\n",
       "      <th>357</th>\n",
       "      <td>1.392899</td>\n",
       "      <td>1.432519</td>\n",
       "      <td>0</td>\n",
       "    </tr>\n",
       "    <tr>\n",
       "      <th>276</th>\n",
       "      <td>0.895334</td>\n",
       "      <td>-0.044235</td>\n",
       "      <td>0</td>\n",
       "    </tr>\n",
       "    <tr>\n",
       "      <th>830</th>\n",
       "      <td>2.371879</td>\n",
       "      <td>0.096360</td>\n",
       "      <td>0</td>\n",
       "    </tr>\n",
       "    <tr>\n",
       "      <th>433</th>\n",
       "      <td>2.789487</td>\n",
       "      <td>-0.090476</td>\n",
       "      <td>0</td>\n",
       "    </tr>\n",
       "    <tr>\n",
       "      <th>895</th>\n",
       "      <td>-0.229982</td>\n",
       "      <td>-1.433189</td>\n",
       "      <td>0</td>\n",
       "    </tr>\n",
       "  </tbody>\n",
       "</table>\n",
       "</div>"
      ],
      "text/plain": [
       "     feature_3  feature_4  target\n",
       "357   1.392899   1.432519       0\n",
       "276   0.895334  -0.044235       0\n",
       "830   2.371879   0.096360       0\n",
       "433   2.789487  -0.090476       0\n",
       "895  -0.229982  -1.433189       0"
      ]
     },
     "execution_count": 23,
     "metadata": {},
     "output_type": "execute_result"
    }
   ],
   "source": [
    "df_majority_downsampled.head()"
   ]
  },
  {
   "cell_type": "code",
   "execution_count": 24,
   "id": "fa03497f-7405-4969-8478-d490bdc33d9b",
   "metadata": {},
   "outputs": [
    {
     "data": {
      "text/plain": [
       "(100, 3)"
      ]
     },
     "execution_count": 24,
     "metadata": {},
     "output_type": "execute_result"
    }
   ],
   "source": [
    "df_majority_downsampled.shape"
   ]
  },
  {
   "cell_type": "code",
   "execution_count": 25,
   "id": "def894dd-790e-4ffb-b6f9-fbf3d04fa015",
   "metadata": {},
   "outputs": [],
   "source": [
    "df_downsampled=pd.concat([df_majority_downsampled,df_minority]).reset_index(drop=1)"
   ]
  },
  {
   "cell_type": "code",
   "execution_count": 26,
   "id": "48b9ab9a-4931-473b-a0f0-95623ef41286",
   "metadata": {},
   "outputs": [
    {
     "data": {
      "text/plain": [
       "0    100\n",
       "1    100\n",
       "Name: target, dtype: int64"
      ]
     },
     "execution_count": 26,
     "metadata": {},
     "output_type": "execute_result"
    }
   ],
   "source": [
    "df_downsampled['target'].value_counts()"
   ]
  },
  {
   "cell_type": "code",
   "execution_count": 27,
   "id": "5f1b643c-9a65-418e-9954-40a929f28b23",
   "metadata": {},
   "outputs": [],
   "source": [
    "###Down sampling is bad compared to Up sampling as numbers are reduced "
   ]
  },
  {
   "cell_type": "code",
   "execution_count": 28,
   "id": "343a4bb7-f5bc-4f13-b2ba-d585d7bcbc1a",
   "metadata": {},
   "outputs": [],
   "source": [
    "##In this normal upsampling, the new set of numbers get  created on top of the previous numbers only...at same position..so variance doesn't change."
   ]
  },
  {
   "cell_type": "code",
   "execution_count": 29,
   "id": "c221e184-85b7-4d54-9d51-4fdb1bb1d7ba",
   "metadata": {},
   "outputs": [],
   "source": [
    "#resample basically resamples the numbers at same location...so duplicate values might be there"
   ]
  },
  {
   "cell_type": "code",
   "execution_count": null,
   "id": "8fc0aaa6-0330-4959-b8c1-7a7db7aaeca3",
   "metadata": {},
   "outputs": [],
   "source": []
  }
 ],
 "metadata": {
  "kernelspec": {
   "display_name": "Python 3 (ipykernel)",
   "language": "python",
   "name": "python3"
  },
  "language_info": {
   "codemirror_mode": {
    "name": "ipython",
    "version": 3
   },
   "file_extension": ".py",
   "mimetype": "text/x-python",
   "name": "python",
   "nbconvert_exporter": "python",
   "pygments_lexer": "ipython3",
   "version": "3.10.8"
  }
 },
 "nbformat": 4,
 "nbformat_minor": 5
}
